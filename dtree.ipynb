{
 "cells": [
  {
   "cell_type": "code",
   "execution_count": 1,
   "metadata": {},
   "outputs": [],
   "source": [
    "from xclib.data import data_utils\n",
    "import pandas as pd\n",
    "from numpy import *\n",
    "import numpy as np\n",
    "import statistics"
   ]
  },
  {
   "cell_type": "code",
   "execution_count": 2,
   "metadata": {},
   "outputs": [],
   "source": [
    "def read_labels(f_name):\n",
    "    f = pd.read_csv(f_name, header = None,  encoding='ISO-8859-1') \n",
    "    f = f.to_numpy() \n",
    "    return f"
   ]
  },
  {
   "cell_type": "code",
   "execution_count": 3,
   "metadata": {},
   "outputs": [],
   "source": [
    "Y_test = read_labels('/home/shreya/Sem6/COL774/A3/virus/ass3_parta_data/test_y.txt')\n",
    "Y_train = read_labels('/home/shreya/Sem6/COL774/A3/virus/ass3_parta_data/train_y.txt')"
   ]
  },
  {
   "cell_type": "code",
   "execution_count": 4,
   "metadata": {},
   "outputs": [
    {
     "name": "stderr",
     "output_type": "stream",
     "text": [
      "/home/shreya/.local/lib/python3.6/site-packages/xclib-0.96-py3.6-linux-x86_64.egg/xclib/data/data_utils.py:173: UserWarning: Header mis-match from inferred shape!\n",
      "  warnings.warn(\"Header mis-match from inferred shape!\")\n"
     ]
    }
   ],
   "source": [
    "X_test = data_utils.read_sparse_file('/home/shreya/Sem6/COL774/A3/virus/ass3_parta_data/test_x.txt', force_header=True)\n",
    "X_train = data_utils.read_sparse_file('/home/shreya/Sem6/COL774/A3/virus/ass3_parta_data/train_x.txt', force_header=True)"
   ]
  },
  {
   "cell_type": "code",
   "execution_count": 5,
   "metadata": {},
   "outputs": [
    {
     "name": "stdout",
     "output_type": "stream",
     "text": [
      "482\n"
     ]
    }
   ],
   "source": [
    "f_size = X_train.shape[1]\n",
    "print(f_size)"
   ]
  },
  {
   "cell_type": "code",
   "execution_count": 6,
   "metadata": {},
   "outputs": [],
   "source": [
    "# x = X_train[0].toarray()\n",
    "# print((x[0][1]))\n",
    "# print(X_train[8])"
   ]
  },
  {
   "cell_type": "code",
   "execution_count": 7,
   "metadata": {},
   "outputs": [],
   "source": [
    "# l = list(range(0,X_test.shape[0]))\n",
    "# print(feature_median(15,l, X_test))"
   ]
  },
  {
   "cell_type": "code",
   "execution_count": 8,
   "metadata": {},
   "outputs": [
    {
     "name": "stdout",
     "output_type": "stream",
     "text": [
      "p_y0 =  30560.0\n",
      "p_y1 =  34153.0\n",
      "64713\n",
      "H of y =  0.9977751575509852\n"
     ]
    }
   ],
   "source": [
    "#to get H_y\n",
    "p_y0 = 0.0\n",
    "p_y1 = 0.0\n",
    "for label in Y_train:\n",
    "    if(label==0):\n",
    "        p_y0 += 1.0\n",
    "\n",
    "p_y1 = len(Y_train) - p_y0\n",
    "print(\"p_y0 = \", p_y0)\n",
    "print(\"p_y1 = \", p_y1)\n",
    "print(len(Y_train))\n",
    "p_y0 = p_y0/len(Y_train)\n",
    "p_y1 = p_y1/len(Y_train)\n",
    "\n",
    "\n",
    "H_y = (-1)*p_y0*(np.log(p_y0)/np.log(2))\n",
    "H_y = H_y - p_y1*(np.log(p_y1)/np.log(2))\n",
    "print('H of y = ', H_y)"
   ]
  },
  {
   "cell_type": "code",
   "execution_count": 9,
   "metadata": {},
   "outputs": [],
   "source": [
    "def feature_median(f_index, i_list, X):\n",
    "    med_list = []\n",
    "    for i in i_list:\n",
    "        temp = X[i].toarray()\n",
    "        med_list.append(temp[0][f_index])\n",
    "#     print(max(med_list))\n",
    "    return median(med_list)"
   ]
  },
  {
   "cell_type": "code",
   "execution_count": 10,
   "metadata": {},
   "outputs": [],
   "source": [
    "def H_entropy(i_list, X, Y):\n",
    "    p0 = 1.0\n",
    "    p1 = 1.0\n",
    "    for i in i_list:\n",
    "        if(Y[i]==1):\n",
    "            p1 += 1.0\n",
    "        else:\n",
    "            p0 += 1.0\n",
    "    p0 = p0/(len(i_list)+2)\n",
    "    p1 = p1/(len(i_list)+2)    \n",
    "    \n",
    "#     print(\"p0 \", p0)\n",
    "#     print(\"p1 \", p1)\n",
    "    \n",
    "    H = (p0*(np.log(1/p0)/np.log(2))) + (p1*(np.log(1/p1)/np.log(2))) \n",
    "    print(H)\n",
    "    return H"
   ]
  },
  {
   "cell_type": "code",
   "execution_count": 11,
   "metadata": {},
   "outputs": [],
   "source": [
    "# f_med = feature_median(list(range(0,len(Y_train))), X_train)\n",
    "# print(f_med)\n",
    "# print(H_entropy(1, f_med, list(range(0,len(Y_train))), X_train))"
   ]
  },
  {
   "cell_type": "code",
   "execution_count": 12,
   "metadata": {},
   "outputs": [],
   "source": [
    "def mutual_info(f_index, i_list, X, Y):\n",
    "    \n",
    "    f_median = feature_median(f_index, i_list, X)\n",
    "#     median1 = feature_median(f_index, i1_list, X)\n",
    "    if f_median==0:\n",
    "        return 1000000, [], []\n",
    "    f0_list = []\n",
    "    f1_list = []\n",
    "    \n",
    "    for i in i_list:\n",
    "        temp = X[i].toarray()\n",
    "        if(temp[0][f_index]<=f_median):\n",
    "            f0_list.append(i)\n",
    "        else:\n",
    "            f1_list.append(i)\n",
    "    \n",
    "    print('med_feature: ', f_median)\n",
    "#     print('med1: ',median1)\n",
    "    \n",
    "    H_y_x0 = H_entropy(f0_list, X, Y)\n",
    "    H_y_x1 = H_entropy(f1_list, X, Y)    \n",
    "    \n",
    "    print('H0: ',H_y_x0)\n",
    "    print('H1: ',H_y_x1)\n",
    "    f0 = float(len(f0_list)+1)/(len(i_list)+1)\n",
    "    f1 = float(len(f1_list)+1)/(len(i_list)+1)\n",
    "    \n",
    "    print('f0: ',f0)\n",
    "    print('f1: ',f1)\n",
    "    \n",
    "    H_y_x = ((f0*H_y_x0) + (f1*H_y_x1))\n",
    "    print('Entropy of y given x is = ', H_y_x)\n",
    "    return H_y_x, f0_list, f1_list"
   ]
  },
  {
   "cell_type": "code",
   "execution_count": 13,
   "metadata": {},
   "outputs": [],
   "source": [
    "#find best feature\n",
    "def best_feature(i_list, X, Y):\n",
    "    best_f = 0\n",
    "    min_entropy = 1000000\n",
    "    f0_best = []\n",
    "    f1_best = []\n",
    "    \n",
    "    i0_list = []\n",
    "    i1_list = []\n",
    "    \n",
    "    #to calculate H(y)\n",
    "    for i in i_list:\n",
    "        if(Y[i]==0):\n",
    "            i0_list.append(i)\n",
    "        else:\n",
    "            i1_list.append(i)\n",
    "            \n",
    "    p_y0 = float(len(i0_list))/len(Y)\n",
    "    p_y1 = float(len(i1_list))/len(Y)\n",
    "    \n",
    "    H_y = (p_y0*(np.log(1/p_y0)/np.log(2))) + (p_y1*(np.log(1/p_y1)/np.log(2)))  \n",
    "    \n",
    "    for i in range(f_size):\n",
    "        val, f0, f1 = mutual_info(i, i_list, X, Y)\n",
    "        if (min_entropy>val):\n",
    "            min_entropy = val\n",
    "            best_f = i\n",
    "            f0_best = f0\n",
    "            f1_best = f1\n",
    "    \n",
    "    median_val = feature_median(best_f, i_list, X)\n",
    "    return best_f, median_val, f0_list, f1_list"
   ]
  },
  {
   "cell_type": "code",
   "execution_count": 14,
   "metadata": {},
   "outputs": [],
   "source": [
    "# print(best_feature(list(range(0,len(Y_train))), X_train, Y_train))"
   ]
  },
  {
   "cell_type": "code",
   "execution_count": 15,
   "metadata": {},
   "outputs": [],
   "source": [
    "class Node:\n",
    "    def __init__(self, feature, median, height):\n",
    "        self.left = None\n",
    "        self.right = None\n",
    "        self.feature = feature\n",
    "        self.median = median\n",
    "        self.height = height\n",
    "    \n",
    "    def insert_left(self, node):\n",
    "        if self.left is None:\n",
    "            self.left = node\n",
    "    \n",
    "    def insert_right(self, node):\n",
    "        if self.right is None:\n",
    "            self.right = node  "
   ]
  },
  {
   "cell_type": "code",
   "execution_count": 16,
   "metadata": {},
   "outputs": [],
   "source": [
    "def make_tree(i_list, X, Y, height):\n",
    "    if(height==0):\n",
    "        case0 = 0\n",
    "        case1 = 0\n",
    "        for i in i_list:\n",
    "            if Y[i]==0:\n",
    "                case0 += 1\n",
    "            else:\n",
    "                case1 += 1\n",
    "        if case0 > case1:\n",
    "            return 0\n",
    "        else:\n",
    "            return 1\n",
    "    else:\n",
    "        feature, f_median, f0_list, f1_list = best_feature(i_list, X, Y)\n",
    "        f_node = Node(feature, f_median, height)\n",
    "        print(\"At height: \", height, \" feature: \", feature, \" f_median: \", f_median)\n",
    "        left_node = make_tree(f0_list, X, Y, height-1)\n",
    "        right_node = make_tree(f1_list, X, Y, height-1)\n",
    "        f_node.insert_left(left_node)\n",
    "        f_node.insert_right(right_node)        \n",
    "        return f_node"
   ]
  },
  {
   "cell_type": "code",
   "execution_count": 17,
   "metadata": {},
   "outputs": [
    {
     "name": "stdout",
     "output_type": "stream",
     "text": [
      "med_feature:  1.0\n",
      "0.9804962905501919\n",
      "0.9936458870760403\n",
      "H0:  0.9804962905501919\n",
      "H1:  0.9936458870760403\n",
      "f0:  0.5790555366690361\n",
      "f1:  0.42095991593781873\n",
      "Entropy of y given x is =  0.9860468948220298\n",
      "med_feature:  9.0\n",
      "0.9460983644738901\n",
      "0.978261560664015\n",
      "H0:  0.9460983644738901\n",
      "H1:  0.978261560664015\n",
      "f0:  0.5141236826652656\n",
      "f1:  0.48589176994158917\n",
      "Entropy of y given x is =  0.9617408164837606\n",
      "med_feature:  2.0\n",
      "0.9792992304860615\n",
      "0.9966358461498324\n",
      "H0:  0.9792992304860615\n",
      "H1:  0.9966358461498324\n",
      "f0:  0.5217263652378156\n",
      "f1:  0.47828908736903913\n",
      "Entropy of y given x is =  0.9876062772959561\n",
      "med_feature:  8.0\n",
      "0.9743339819011949\n",
      "0.9956647321436192\n",
      "H0:  0.9743339819011949\n",
      "H1:  0.9956647321436192\n",
      "f0:  0.5008653459838674\n",
      "f1:  0.4991501066229873\n",
      "Entropy of y given x is =  0.9849962841590167\n",
      "med_feature:  4.0\n",
      "0.9992757121850022\n",
      "0.9954275757208431\n",
      "H0:  0.9992757121850022\n",
      "H1:  0.9954275757208431\n",
      "f0:  0.5023178910282164\n",
      "f1:  0.4976975615786383\n",
      "Entropy of y given x is =  0.9973759454648883\n",
      "med_feature:  2.0\n",
      "0.9600394969085864\n",
      "0.985691298480235\n",
      "H0:  0.9600394969085864\n",
      "H1:  0.985691298480235\n",
      "f0:  0.5231789102821646\n",
      "f1:  0.4768365423246902\n",
      "Entropy of y given x is =  0.9722860483873211\n",
      "med_feature:  1.0\n",
      "0.9914181879550757\n",
      "0.9997119579144979\n",
      "H0:  0.9914181879550757\n",
      "H1:  0.9997119579144979\n",
      "f0:  0.5855301789411874\n",
      "f1:  0.4144852736656674\n",
      "Entropy of y given x is =  0.9948711534619141\n",
      "med_feature:  3.0\n",
      "0.9618352219302945\n",
      "0.9872695812727683\n",
      "H0:  0.9618352219302945\n",
      "H1:  0.9872695812727683\n",
      "f0:  0.520320178014031\n",
      "f1:  0.4796952745928238\n",
      "Entropy of y given x is =  0.9740508267807186\n",
      "med_feature:  6.0\n",
      "0.9995644726053814\n",
      "0.9945713681999044\n",
      "H0:  0.9995644726053814\n",
      "H1:  0.9945713681999044\n",
      "f0:  0.5018543128225732\n",
      "f1:  0.4981611397842816\n",
      "Entropy of y given x is =  0.9970925479005083\n",
      "med_feature:  1.0\n",
      "0.9592868912694181\n",
      "0.9623544194753139\n",
      "H0:  0.9592868912694181\n",
      "H1:  0.9623544194753139\n",
      "f0:  0.6099916555922984\n",
      "f1:  0.39002379701455636\n",
      "Entropy of y given x is =  0.9604981237509226\n",
      "med_feature:  8.0\n",
      "0.9565864143955167\n",
      "0.9869535193690728\n",
      "H0:  0.9565864143955167\n",
      "H1:  0.9869535193690728\n",
      "f0:  0.5016379763266063\n",
      "f1:  0.4983774762802485\n",
      "Entropy of y given x is =  0.9717354772879593\n",
      "med_feature:  4.0\n",
      "0.9501699706169969\n",
      "0.9778048057450515\n",
      "H0:  0.9501699706169969\n",
      "H1:  0.9778048057450515\n",
      "f0:  0.5283091757579503\n",
      "f1:  0.4717062768489044\n",
      "Entropy of y given x is =  0.963220178409586\n",
      "med_feature:  1.0\n",
      "0.9988002963099044\n",
      "0.9963861432151813\n",
      "H0:  0.9988002963099044\n",
      "H1:  0.9963861432151813\n",
      "f0:  0.5081744290261767\n",
      "f1:  0.49184102358067805\n",
      "Entropy of y given x is =  0.9976283508490207\n",
      "med_feature:  14.0\n",
      "0.9854848989873792\n",
      "0.9987694124674744\n",
      "H0:  0.9854848989873792\n",
      "H1:  0.9987694124674744\n",
      "f0:  0.5293135952035108\n",
      "f1:  0.47070185740334397\n",
      "Entropy of y given x is =  0.9917531724678652\n",
      "med_feature:  2.0\n",
      "0.9885479173876166\n",
      "0.9996056798828958\n",
      "H0:  0.9885479173876166\n",
      "H1:  0.9996056798828958\n",
      "f0:  0.5287727539635937\n",
      "f1:  0.4712426986432611\n",
      "Entropy of y given x is =  0.9937740828691728\n",
      "med_feature:  1.0\n",
      "0.9823160777745238\n",
      "0.9913351373931247\n",
      "H0:  0.9823160777745238\n",
      "H1:  0.9913351373931247\n",
      "f0:  0.6209475538523349\n",
      "f1:  0.3790678987545199\n",
      "Entropy of y given x is =  0.9857500930970455\n",
      "med_feature:  1.0\n",
      "0.9971597755658274\n",
      "0.9987275080610414\n",
      "H0:  0.9971597755658274\n",
      "H1:  0.9987275080610414\n",
      "f0:  0.6523008931606762\n",
      "f1:  0.3477145594461786\n",
      "Entropy of y given x is =  0.9977203076977132\n"
     ]
    },
    {
     "ename": "KeyboardInterrupt",
     "evalue": "",
     "output_type": "error",
     "traceback": [
      "\u001b[0;31m---------------------------------------------------------------------------\u001b[0m",
      "\u001b[0;31mKeyboardInterrupt\u001b[0m                         Traceback (most recent call last)",
      "\u001b[0;32m<ipython-input-17-313e93ee504c>\u001b[0m in \u001b[0;36m<module>\u001b[0;34m\u001b[0m\n\u001b[1;32m      3\u001b[0m \u001b[0mi_list\u001b[0m \u001b[0;34m=\u001b[0m \u001b[0mrange\u001b[0m\u001b[0;34m(\u001b[0m\u001b[0;36m0\u001b[0m\u001b[0;34m,\u001b[0m \u001b[0mlen\u001b[0m\u001b[0;34m(\u001b[0m\u001b[0mY_train\u001b[0m\u001b[0;34m)\u001b[0m\u001b[0;34m)\u001b[0m\u001b[0;34m\u001b[0m\u001b[0;34m\u001b[0m\u001b[0m\n\u001b[1;32m      4\u001b[0m \u001b[0;34m\u001b[0m\u001b[0m\n\u001b[0;32m----> 5\u001b[0;31m \u001b[0mTree\u001b[0m \u001b[0;34m=\u001b[0m \u001b[0mmake_tree\u001b[0m\u001b[0;34m(\u001b[0m\u001b[0mi_list\u001b[0m\u001b[0;34m,\u001b[0m \u001b[0mX_train\u001b[0m\u001b[0;34m,\u001b[0m \u001b[0mY_train\u001b[0m\u001b[0;34m,\u001b[0m \u001b[0mheight\u001b[0m\u001b[0;34m)\u001b[0m\u001b[0;34m\u001b[0m\u001b[0;34m\u001b[0m\u001b[0m\n\u001b[0m",
      "\u001b[0;32m<ipython-input-16-203279ecdbae>\u001b[0m in \u001b[0;36mmake_tree\u001b[0;34m(i_list, X, Y, height)\u001b[0m\n\u001b[1;32m     13\u001b[0m             \u001b[0;32mreturn\u001b[0m \u001b[0;36m1\u001b[0m\u001b[0;34m\u001b[0m\u001b[0;34m\u001b[0m\u001b[0m\n\u001b[1;32m     14\u001b[0m     \u001b[0;32melse\u001b[0m\u001b[0;34m:\u001b[0m\u001b[0;34m\u001b[0m\u001b[0;34m\u001b[0m\u001b[0m\n\u001b[0;32m---> 15\u001b[0;31m         \u001b[0mfeature\u001b[0m\u001b[0;34m,\u001b[0m \u001b[0mf_median\u001b[0m\u001b[0;34m,\u001b[0m \u001b[0mf0_list\u001b[0m\u001b[0;34m,\u001b[0m \u001b[0mf1_list\u001b[0m \u001b[0;34m=\u001b[0m \u001b[0mbest_feature\u001b[0m\u001b[0;34m(\u001b[0m\u001b[0mi_list\u001b[0m\u001b[0;34m,\u001b[0m \u001b[0mX\u001b[0m\u001b[0;34m,\u001b[0m \u001b[0mY\u001b[0m\u001b[0;34m)\u001b[0m\u001b[0;34m\u001b[0m\u001b[0;34m\u001b[0m\u001b[0m\n\u001b[0m\u001b[1;32m     16\u001b[0m         \u001b[0mf_node\u001b[0m \u001b[0;34m=\u001b[0m \u001b[0mNode\u001b[0m\u001b[0;34m(\u001b[0m\u001b[0mfeature\u001b[0m\u001b[0;34m,\u001b[0m \u001b[0mf_median\u001b[0m\u001b[0;34m,\u001b[0m \u001b[0mheight\u001b[0m\u001b[0;34m)\u001b[0m\u001b[0;34m\u001b[0m\u001b[0;34m\u001b[0m\u001b[0m\n\u001b[1;32m     17\u001b[0m         \u001b[0mprint\u001b[0m\u001b[0;34m(\u001b[0m\u001b[0;34m\"At height: \"\u001b[0m\u001b[0;34m,\u001b[0m \u001b[0mheight\u001b[0m\u001b[0;34m,\u001b[0m \u001b[0;34m\" feature: \"\u001b[0m\u001b[0;34m,\u001b[0m \u001b[0mfeature\u001b[0m\u001b[0;34m,\u001b[0m \u001b[0;34m\" f_median: \"\u001b[0m\u001b[0;34m,\u001b[0m \u001b[0mf_median\u001b[0m\u001b[0;34m)\u001b[0m\u001b[0;34m\u001b[0m\u001b[0;34m\u001b[0m\u001b[0m\n",
      "\u001b[0;32m<ipython-input-13-8217d350127a>\u001b[0m in \u001b[0;36mbest_feature\u001b[0;34m(i_list, X, Y)\u001b[0m\n\u001b[1;32m     22\u001b[0m \u001b[0;34m\u001b[0m\u001b[0m\n\u001b[1;32m     23\u001b[0m     \u001b[0;32mfor\u001b[0m \u001b[0mi\u001b[0m \u001b[0;32min\u001b[0m \u001b[0mrange\u001b[0m\u001b[0;34m(\u001b[0m\u001b[0mf_size\u001b[0m\u001b[0;34m)\u001b[0m\u001b[0;34m:\u001b[0m\u001b[0;34m\u001b[0m\u001b[0;34m\u001b[0m\u001b[0m\n\u001b[0;32m---> 24\u001b[0;31m         \u001b[0mval\u001b[0m\u001b[0;34m,\u001b[0m \u001b[0mf0\u001b[0m\u001b[0;34m,\u001b[0m \u001b[0mf1\u001b[0m \u001b[0;34m=\u001b[0m \u001b[0mmutual_info\u001b[0m\u001b[0;34m(\u001b[0m\u001b[0mi\u001b[0m\u001b[0;34m,\u001b[0m \u001b[0mi_list\u001b[0m\u001b[0;34m,\u001b[0m \u001b[0mX\u001b[0m\u001b[0;34m,\u001b[0m \u001b[0mY\u001b[0m\u001b[0;34m)\u001b[0m\u001b[0;34m\u001b[0m\u001b[0;34m\u001b[0m\u001b[0m\n\u001b[0m\u001b[1;32m     25\u001b[0m         \u001b[0;32mif\u001b[0m \u001b[0;34m(\u001b[0m\u001b[0mmin_entropy\u001b[0m\u001b[0;34m>\u001b[0m\u001b[0mval\u001b[0m\u001b[0;34m)\u001b[0m\u001b[0;34m:\u001b[0m\u001b[0;34m\u001b[0m\u001b[0;34m\u001b[0m\u001b[0m\n\u001b[1;32m     26\u001b[0m             \u001b[0mmin_entropy\u001b[0m \u001b[0;34m=\u001b[0m \u001b[0mval\u001b[0m\u001b[0;34m\u001b[0m\u001b[0;34m\u001b[0m\u001b[0m\n",
      "\u001b[0;32m<ipython-input-12-daeec46030ba>\u001b[0m in \u001b[0;36mmutual_info\u001b[0;34m(f_index, i_list, X, Y)\u001b[0m\n\u001b[1;32m      1\u001b[0m \u001b[0;32mdef\u001b[0m \u001b[0mmutual_info\u001b[0m\u001b[0;34m(\u001b[0m\u001b[0mf_index\u001b[0m\u001b[0;34m,\u001b[0m \u001b[0mi_list\u001b[0m\u001b[0;34m,\u001b[0m \u001b[0mX\u001b[0m\u001b[0;34m,\u001b[0m \u001b[0mY\u001b[0m\u001b[0;34m)\u001b[0m\u001b[0;34m:\u001b[0m\u001b[0;34m\u001b[0m\u001b[0;34m\u001b[0m\u001b[0m\n\u001b[1;32m      2\u001b[0m \u001b[0;34m\u001b[0m\u001b[0m\n\u001b[0;32m----> 3\u001b[0;31m     \u001b[0mf_median\u001b[0m \u001b[0;34m=\u001b[0m \u001b[0mfeature_median\u001b[0m\u001b[0;34m(\u001b[0m\u001b[0mf_index\u001b[0m\u001b[0;34m,\u001b[0m \u001b[0mi_list\u001b[0m\u001b[0;34m,\u001b[0m \u001b[0mX\u001b[0m\u001b[0;34m)\u001b[0m\u001b[0;34m\u001b[0m\u001b[0;34m\u001b[0m\u001b[0m\n\u001b[0m\u001b[1;32m      4\u001b[0m \u001b[0;31m#     median1 = feature_median(f_index, i1_list, X)\u001b[0m\u001b[0;34m\u001b[0m\u001b[0;34m\u001b[0m\u001b[0;34m\u001b[0m\u001b[0m\n\u001b[1;32m      5\u001b[0m     \u001b[0;32mif\u001b[0m \u001b[0mf_median\u001b[0m\u001b[0;34m==\u001b[0m\u001b[0;36m0\u001b[0m\u001b[0;34m:\u001b[0m\u001b[0;34m\u001b[0m\u001b[0;34m\u001b[0m\u001b[0m\n",
      "\u001b[0;32m<ipython-input-9-f0b51ed1de66>\u001b[0m in \u001b[0;36mfeature_median\u001b[0;34m(f_index, i_list, X)\u001b[0m\n\u001b[1;32m      2\u001b[0m     \u001b[0mmed_list\u001b[0m \u001b[0;34m=\u001b[0m \u001b[0;34m[\u001b[0m\u001b[0;34m]\u001b[0m\u001b[0;34m\u001b[0m\u001b[0;34m\u001b[0m\u001b[0m\n\u001b[1;32m      3\u001b[0m     \u001b[0;32mfor\u001b[0m \u001b[0mi\u001b[0m \u001b[0;32min\u001b[0m \u001b[0mi_list\u001b[0m\u001b[0;34m:\u001b[0m\u001b[0;34m\u001b[0m\u001b[0;34m\u001b[0m\u001b[0m\n\u001b[0;32m----> 4\u001b[0;31m         \u001b[0mtemp\u001b[0m \u001b[0;34m=\u001b[0m \u001b[0mX\u001b[0m\u001b[0;34m[\u001b[0m\u001b[0mi\u001b[0m\u001b[0;34m]\u001b[0m\u001b[0;34m.\u001b[0m\u001b[0mtoarray\u001b[0m\u001b[0;34m(\u001b[0m\u001b[0;34m)\u001b[0m\u001b[0;34m\u001b[0m\u001b[0;34m\u001b[0m\u001b[0m\n\u001b[0m\u001b[1;32m      5\u001b[0m         \u001b[0mmed_list\u001b[0m\u001b[0;34m.\u001b[0m\u001b[0mappend\u001b[0m\u001b[0;34m(\u001b[0m\u001b[0mtemp\u001b[0m\u001b[0;34m[\u001b[0m\u001b[0;36m0\u001b[0m\u001b[0;34m]\u001b[0m\u001b[0;34m[\u001b[0m\u001b[0mf_index\u001b[0m\u001b[0;34m]\u001b[0m\u001b[0;34m)\u001b[0m\u001b[0;34m\u001b[0m\u001b[0;34m\u001b[0m\u001b[0m\n\u001b[1;32m      6\u001b[0m \u001b[0;31m#     print(max(med_list))\u001b[0m\u001b[0;34m\u001b[0m\u001b[0;34m\u001b[0m\u001b[0;34m\u001b[0m\u001b[0m\n",
      "\u001b[0;32m/usr/local/lib/python3.6/dist-packages/scipy/sparse/_index.py\u001b[0m in \u001b[0;36m__getitem__\u001b[0;34m(self, key)\u001b[0m\n\u001b[1;32m     39\u001b[0m                 \u001b[0;32mreturn\u001b[0m \u001b[0mself\u001b[0m\u001b[0;34m.\u001b[0m\u001b[0m_get_intXint\u001b[0m\u001b[0;34m(\u001b[0m\u001b[0mrow\u001b[0m\u001b[0;34m,\u001b[0m \u001b[0mcol\u001b[0m\u001b[0;34m)\u001b[0m\u001b[0;34m\u001b[0m\u001b[0;34m\u001b[0m\u001b[0m\n\u001b[1;32m     40\u001b[0m             \u001b[0;32melif\u001b[0m \u001b[0misinstance\u001b[0m\u001b[0;34m(\u001b[0m\u001b[0mcol\u001b[0m\u001b[0;34m,\u001b[0m \u001b[0mslice\u001b[0m\u001b[0;34m)\u001b[0m\u001b[0;34m:\u001b[0m\u001b[0;34m\u001b[0m\u001b[0;34m\u001b[0m\u001b[0m\n\u001b[0;32m---> 41\u001b[0;31m                 \u001b[0;32mreturn\u001b[0m \u001b[0mself\u001b[0m\u001b[0;34m.\u001b[0m\u001b[0m_get_intXslice\u001b[0m\u001b[0;34m(\u001b[0m\u001b[0mrow\u001b[0m\u001b[0;34m,\u001b[0m \u001b[0mcol\u001b[0m\u001b[0;34m)\u001b[0m\u001b[0;34m\u001b[0m\u001b[0;34m\u001b[0m\u001b[0m\n\u001b[0m\u001b[1;32m     42\u001b[0m             \u001b[0;32melif\u001b[0m \u001b[0mcol\u001b[0m\u001b[0;34m.\u001b[0m\u001b[0mndim\u001b[0m \u001b[0;34m==\u001b[0m \u001b[0;36m1\u001b[0m\u001b[0;34m:\u001b[0m\u001b[0;34m\u001b[0m\u001b[0;34m\u001b[0m\u001b[0m\n\u001b[1;32m     43\u001b[0m                 \u001b[0;32mreturn\u001b[0m \u001b[0mself\u001b[0m\u001b[0;34m.\u001b[0m\u001b[0m_get_intXarray\u001b[0m\u001b[0;34m(\u001b[0m\u001b[0mrow\u001b[0m\u001b[0;34m,\u001b[0m \u001b[0mcol\u001b[0m\u001b[0;34m)\u001b[0m\u001b[0;34m\u001b[0m\u001b[0;34m\u001b[0m\u001b[0m\n",
      "\u001b[0;32m/usr/local/lib/python3.6/dist-packages/scipy/sparse/csr.py\u001b[0m in \u001b[0;36m_get_intXslice\u001b[0;34m(self, row, col)\u001b[0m\n\u001b[1;32m    277\u001b[0m     \u001b[0;32mdef\u001b[0m \u001b[0m_get_intXslice\u001b[0m\u001b[0;34m(\u001b[0m\u001b[0mself\u001b[0m\u001b[0;34m,\u001b[0m \u001b[0mrow\u001b[0m\u001b[0;34m,\u001b[0m \u001b[0mcol\u001b[0m\u001b[0;34m)\u001b[0m\u001b[0;34m:\u001b[0m\u001b[0;34m\u001b[0m\u001b[0;34m\u001b[0m\u001b[0m\n\u001b[1;32m    278\u001b[0m         \u001b[0;32mif\u001b[0m \u001b[0mcol\u001b[0m\u001b[0;34m.\u001b[0m\u001b[0mstep\u001b[0m \u001b[0;32min\u001b[0m \u001b[0;34m(\u001b[0m\u001b[0;36m1\u001b[0m\u001b[0;34m,\u001b[0m \u001b[0;32mNone\u001b[0m\u001b[0;34m)\u001b[0m\u001b[0;34m:\u001b[0m\u001b[0;34m\u001b[0m\u001b[0;34m\u001b[0m\u001b[0m\n\u001b[0;32m--> 279\u001b[0;31m             \u001b[0;32mreturn\u001b[0m \u001b[0mself\u001b[0m\u001b[0;34m.\u001b[0m\u001b[0m_get_submatrix\u001b[0m\u001b[0;34m(\u001b[0m\u001b[0mrow\u001b[0m\u001b[0;34m,\u001b[0m \u001b[0mcol\u001b[0m\u001b[0;34m,\u001b[0m \u001b[0mcopy\u001b[0m\u001b[0;34m=\u001b[0m\u001b[0;32mTrue\u001b[0m\u001b[0;34m)\u001b[0m\u001b[0;34m\u001b[0m\u001b[0;34m\u001b[0m\u001b[0m\n\u001b[0m\u001b[1;32m    280\u001b[0m         \u001b[0;31m# TODO: uncomment this once it's faster:\u001b[0m\u001b[0;34m\u001b[0m\u001b[0;34m\u001b[0m\u001b[0;34m\u001b[0m\u001b[0m\n\u001b[1;32m    281\u001b[0m         \u001b[0;31m# return self.getrow(row)._minor_slice(col)\u001b[0m\u001b[0;34m\u001b[0m\u001b[0;34m\u001b[0m\u001b[0;34m\u001b[0m\u001b[0m\n",
      "\u001b[0;32m/usr/local/lib/python3.6/dist-packages/scipy/sparse/compressed.py\u001b[0m in \u001b[0;36m_get_submatrix\u001b[0;34m(self, major, minor, copy)\u001b[0m\n\u001b[1;32m    791\u001b[0m         \u001b[0mshape\u001b[0m \u001b[0;34m=\u001b[0m \u001b[0mself\u001b[0m\u001b[0;34m.\u001b[0m\u001b[0m_swap\u001b[0m\u001b[0;34m(\u001b[0m\u001b[0;34m(\u001b[0m\u001b[0mi1\u001b[0m \u001b[0;34m-\u001b[0m \u001b[0mi0\u001b[0m\u001b[0;34m,\u001b[0m \u001b[0mj1\u001b[0m \u001b[0;34m-\u001b[0m \u001b[0mj0\u001b[0m\u001b[0;34m)\u001b[0m\u001b[0;34m)\u001b[0m\u001b[0;34m\u001b[0m\u001b[0;34m\u001b[0m\u001b[0m\n\u001b[1;32m    792\u001b[0m         return self.__class__((data, indices, indptr), shape=shape,\n\u001b[0;32m--> 793\u001b[0;31m                               dtype=self.dtype, copy=False)\n\u001b[0m\u001b[1;32m    794\u001b[0m \u001b[0;34m\u001b[0m\u001b[0m\n\u001b[1;32m    795\u001b[0m     \u001b[0;32mdef\u001b[0m \u001b[0m_set_intXint\u001b[0m\u001b[0;34m(\u001b[0m\u001b[0mself\u001b[0m\u001b[0;34m,\u001b[0m \u001b[0mrow\u001b[0m\u001b[0;34m,\u001b[0m \u001b[0mcol\u001b[0m\u001b[0;34m,\u001b[0m \u001b[0mx\u001b[0m\u001b[0;34m)\u001b[0m\u001b[0;34m:\u001b[0m\u001b[0;34m\u001b[0m\u001b[0;34m\u001b[0m\u001b[0m\n",
      "\u001b[0;32m/usr/local/lib/python3.6/dist-packages/scipy/sparse/compressed.py\u001b[0m in \u001b[0;36m__init__\u001b[0;34m(self, arg1, shape, dtype, copy)\u001b[0m\n\u001b[1;32m     73\u001b[0m                                             dtype=idx_dtype)\n\u001b[1;32m     74\u001b[0m                     \u001b[0mself\u001b[0m\u001b[0;34m.\u001b[0m\u001b[0mindptr\u001b[0m \u001b[0;34m=\u001b[0m \u001b[0mnp\u001b[0m\u001b[0;34m.\u001b[0m\u001b[0marray\u001b[0m\u001b[0;34m(\u001b[0m\u001b[0mindptr\u001b[0m\u001b[0;34m,\u001b[0m \u001b[0mcopy\u001b[0m\u001b[0;34m=\u001b[0m\u001b[0mcopy\u001b[0m\u001b[0;34m,\u001b[0m \u001b[0mdtype\u001b[0m\u001b[0;34m=\u001b[0m\u001b[0midx_dtype\u001b[0m\u001b[0;34m)\u001b[0m\u001b[0;34m\u001b[0m\u001b[0;34m\u001b[0m\u001b[0m\n\u001b[0;32m---> 75\u001b[0;31m                     \u001b[0mself\u001b[0m\u001b[0;34m.\u001b[0m\u001b[0mdata\u001b[0m \u001b[0;34m=\u001b[0m \u001b[0mnp\u001b[0m\u001b[0;34m.\u001b[0m\u001b[0marray\u001b[0m\u001b[0;34m(\u001b[0m\u001b[0mdata\u001b[0m\u001b[0;34m,\u001b[0m \u001b[0mcopy\u001b[0m\u001b[0;34m=\u001b[0m\u001b[0mcopy\u001b[0m\u001b[0;34m,\u001b[0m \u001b[0mdtype\u001b[0m\u001b[0;34m=\u001b[0m\u001b[0mdtype\u001b[0m\u001b[0;34m)\u001b[0m\u001b[0;34m\u001b[0m\u001b[0;34m\u001b[0m\u001b[0m\n\u001b[0m\u001b[1;32m     76\u001b[0m                 \u001b[0;32melse\u001b[0m\u001b[0;34m:\u001b[0m\u001b[0;34m\u001b[0m\u001b[0;34m\u001b[0m\u001b[0m\n\u001b[1;32m     77\u001b[0m                     raise ValueError(\"unrecognized {}_matrix \"\n",
      "\u001b[0;31mKeyboardInterrupt\u001b[0m: "
     ]
    }
   ],
   "source": [
    "#define decision tree:\n",
    "height = 2\n",
    "i_list = range(0, len(Y_train))\n",
    "\n",
    "Tree = make_tree(i_list, X_train, Y_train, height)"
   ]
  },
  {
   "cell_type": "code",
   "execution_count": null,
   "metadata": {},
   "outputs": [],
   "source": [
    "predict"
   ]
  }
 ],
 "metadata": {
  "kernelspec": {
   "display_name": "Python 3",
   "language": "python",
   "name": "python3"
  },
  "language_info": {
   "codemirror_mode": {
    "name": "ipython",
    "version": 3
   },
   "file_extension": ".py",
   "mimetype": "text/x-python",
   "name": "python",
   "nbconvert_exporter": "python",
   "pygments_lexer": "ipython3",
   "version": "3.6.9"
  }
 },
 "nbformat": 4,
 "nbformat_minor": 2
}
